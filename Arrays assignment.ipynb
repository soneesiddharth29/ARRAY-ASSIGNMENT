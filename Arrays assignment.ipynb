{
 "cells": [
  {
   "cell_type": "markdown",
   "id": "9bc603b3-6a52-4c43-9b93-7a91f3c4afcf",
   "metadata": {},
   "source": [
    "1. Given an array, check if it contains any duplicates or not.\n",
    "arr = [1, 2, 4, 2, 5, 9]\n",
    "Output = True"
   ]
  },
  {
   "cell_type": "code",
   "execution_count": 1,
   "id": "4c221ce3-c111-43cc-ad1d-f19e238a0bf1",
   "metadata": {},
   "outputs": [
    {
     "name": "stdout",
     "output_type": "stream",
     "text": [
      "True\n"
     ]
    }
   ],
   "source": [
    "arr = [1, 2, 4, 2, 5, 9]\n",
    "\n",
    "def has_duplicates(array):\n",
    "    # Use set to keep track of unique elements\n",
    "    unique_set = set()\n",
    "    \n",
    "    for element in array:\n",
    "        # If the element is already in the set, it's a duplicate\n",
    "        if element in unique_set:\n",
    "            return True\n",
    "        else:\n",
    "            # Otherwise, add it to the set\n",
    "            unique_set.add(element)\n",
    "    \n",
    "    # If the loop completes without returning, there are no duplicates\n",
    "    return False\n",
    "\n",
    "# Test the function with the given array\n",
    "output = has_duplicates(arr)\n",
    "\n",
    "# Print the result\n",
    "print(output)\n"
   ]
  },
  {
   "cell_type": "markdown",
   "id": "7091f725-b5a8-43e9-af2d-086e30e1da11",
   "metadata": {},
   "source": [
    "In this example, the output will be True because the array contains duplicates (2 appears more than once)."
   ]
  },
  {
   "cell_type": "markdown",
   "id": "a3ab173a-6b60-4dc0-abed-fca947092d3a",
   "metadata": {},
   "source": [
    "2. Given an array and an integer k, rotate the array to the right by k steps.\n",
    "arr = [1, 2, 3, 4, 5, 6, 7] k = 3\n",
    "Output = [5, 6, 7, 1, 2, 3, 4]"
   ]
  },
  {
   "cell_type": "code",
   "execution_count": 2,
   "id": "fad2ba77-d0a7-40d2-a7aa-3ca27756d5fa",
   "metadata": {},
   "outputs": [
    {
     "name": "stdout",
     "output_type": "stream",
     "text": [
      "[5, 6, 7, 1, 2, 3, 4]\n"
     ]
    }
   ],
   "source": [
    "def rotate_array(arr, k):\n",
    "    # Calculate the effective rotation index\n",
    "    k = k % len(arr)\n",
    "    \n",
    "    # Use array slicing to rotate the array\n",
    "    rotated_array = arr[-k:] + arr[:-k]\n",
    "    \n",
    "    return rotated_array\n",
    "\n",
    "# Test the function with the given array and k value\n",
    "arr = [1, 2, 3, 4, 5, 6, 7]\n",
    "k = 3\n",
    "output = rotate_array(arr, k)\n",
    "\n",
    "# Print the result\n",
    "print(output)\n"
   ]
  },
  {
   "cell_type": "markdown",
   "id": "af2ca84b-55f5-4f2c-b73f-aa093081db4c",
   "metadata": {},
   "source": [
    "In this example, the output will be [5, 6, 7, 1, 2, 3, 4] as the array has been rotated to the right by 3 steps."
   ]
  },
  {
   "cell_type": "markdown",
   "id": "bb4c9994-a9f7-4f63-986c-570cbbf7e45d",
   "metadata": {},
   "source": [
    "3. Reverse the given array in-place, means without using any extra data structure.\n",
    "arr = [2, 4, 5, 7, 9, 12]\n",
    "Output = [12, 9, 7, 5, 4, 2]"
   ]
  },
  {
   "cell_type": "code",
   "execution_count": 3,
   "id": "de1e5efa-ec49-440d-8331-ea007977edbc",
   "metadata": {},
   "outputs": [
    {
     "name": "stdout",
     "output_type": "stream",
     "text": [
      "[12, 9, 7, 5, 4, 2]\n"
     ]
    }
   ],
   "source": [
    "def reverse_array_in_place(arr):\n",
    "    # Get the length of the array\n",
    "    n = len(arr)\n",
    "    \n",
    "    # Iterate up to the middle of the array\n",
    "    for i in range(n // 2):\n",
    "        # Swap elements from the beginning and end of the array\n",
    "        arr[i], arr[n - 1 - i] = arr[n - 1 - i], arr[i]\n",
    "\n",
    "# Test the function with the given array\n",
    "arr = [2, 4, 5, 7, 9, 12]\n",
    "reverse_array_in_place(arr)\n",
    "\n",
    "# Print the reversed array\n",
    "print(arr)\n"
   ]
  },
  {
   "cell_type": "markdown",
   "id": "0319c2a3-58c0-42c3-84e2-68812a5a4852",
   "metadata": {},
   "source": [
    "In this example, the output will be [12, 9, 7, 5, 4, 2] as the array has been reversed in-place."
   ]
  },
  {
   "cell_type": "markdown",
   "id": "178b14c6-e480-4f5f-935c-3714455f26a8",
   "metadata": {},
   "source": [
    "4. Given an array of integers, find the maximum element in an array\n",
    "arr = [10, 5, 20, 8, 15]\n",
    "Output = 20"
   ]
  },
  {
   "cell_type": "code",
   "execution_count": 4,
   "id": "24756a82-07ac-4778-9fb3-4c8fd76c209a",
   "metadata": {},
   "outputs": [
    {
     "name": "stdout",
     "output_type": "stream",
     "text": [
      "20\n"
     ]
    }
   ],
   "source": [
    "arr = [10, 5, 20, 8, 15]\n",
    "\n",
    "# Find the maximum element in the array\n",
    "max_element = max(arr)\n",
    "\n",
    "# Print the result\n",
    "print(max_element)\n"
   ]
  },
  {
   "cell_type": "markdown",
   "id": "15c0aaea-8507-40a8-92b9-6b1d19a4c9aa",
   "metadata": {},
   "source": [
    "In this example, the output will be 20 because it is the maximum element in the given array."
   ]
  },
  {
   "cell_type": "markdown",
   "id": "995110c4-0f36-472b-bb64-3e0d6c778ba5",
   "metadata": {},
   "source": [
    "5. Given a sorted array, remove the duplicate element without using any extra data structure.\n",
    "arr = [1, 1, 2, 2, 2, 3, 3, 4, 4, 4, 5, 5]\n",
    "Output = [1, 2, 3, 4, 5]"
   ]
  },
  {
   "cell_type": "code",
   "execution_count": 5,
   "id": "be76ac17-83d3-4572-931f-b09f5f770fc2",
   "metadata": {},
   "outputs": [
    {
     "name": "stdout",
     "output_type": "stream",
     "text": [
      "[1, 2, 3, 4, 5]\n"
     ]
    }
   ],
   "source": [
    "def remove_duplicates_in_place(arr):\n",
    "    # Handle empty or one-element array\n",
    "    if len(arr) < 2:\n",
    "        return arr\n",
    "    \n",
    "    # Initialize index for the unique elements\n",
    "    unique_index = 0\n",
    "    \n",
    "    # Iterate through the array starting from the second element\n",
    "    for i in range(1, len(arr)):\n",
    "        # If the current element is different from the previous one,\n",
    "        # update the unique elements and move it to the next index\n",
    "        if arr[i] != arr[unique_index]:\n",
    "            unique_index += 1\n",
    "            arr[unique_index] = arr[i]\n",
    "    \n",
    "    # Trim the array to remove the duplicates\n",
    "    arr = arr[:unique_index + 1]\n",
    "    \n",
    "    return arr\n",
    "\n",
    "# Test the function with the given sorted array\n",
    "arr = [1, 1, 2, 2, 2, 3, 3, 4, 4, 4, 5, 5]\n",
    "output = remove_duplicates_in_place(arr)\n",
    "\n",
    "# Print the result\n",
    "print(output)\n"
   ]
  },
  {
   "cell_type": "markdown",
   "id": "db63e01e-b13b-417c-8906-dab86d73cb36",
   "metadata": {},
   "source": []
  }
 ],
 "metadata": {
  "kernelspec": {
   "display_name": "Python 3 (ipykernel)",
   "language": "python",
   "name": "python3"
  },
  "language_info": {
   "codemirror_mode": {
    "name": "ipython",
    "version": 3
   },
   "file_extension": ".py",
   "mimetype": "text/x-python",
   "name": "python",
   "nbconvert_exporter": "python",
   "pygments_lexer": "ipython3",
   "version": "3.10.8"
  }
 },
 "nbformat": 4,
 "nbformat_minor": 5
}
